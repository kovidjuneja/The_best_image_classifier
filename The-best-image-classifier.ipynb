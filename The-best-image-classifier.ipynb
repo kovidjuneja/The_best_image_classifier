{
 "cells": [
  {
   "cell_type": "markdown",
   "id": "dcf1ede5",
   "metadata": {},
   "source": [
    "# Visual Wisdom BY AI\n",
    "\n",
    "With this project we are trying to build a machine learning model which effectively classifies AI and REAL     images . Firstly we have downloaded the CIFLAKE-10 dataset which consists of around 100000 examples which consists equal number of AI and REAL images.Due it it's low resolution (32,32,3) we have tried to include around 1200 examples using Beautiful soup.\n",
    "\n",
    "### Lets begin with the code\n",
    "\n",
    "Importing all the necessary libararies "
   ]
  },
  {
   "cell_type": "code",
   "execution_count": 1,
   "id": "76ec9592",
   "metadata": {},
   "outputs": [],
   "source": [
    "import numpy as np\n",
    "import matplotlib.pyplot as plt\n",
    "import os\n",
    "import cv2\n",
    "import random\n",
    "import requests\n",
    "from bs4 import BeautifulSoup\n",
    "import urllib.parse\n",
    "import urllib.request\n",
    "import random\n",
    "import uuid\n",
    "from PIL import Image\n",
    "from io import BytesIO\n",
    "import pickle\n",
    "import tensorflow as tf\n",
    "from tensorflow.keras.models import Sequential\n",
    "from tensorflow.keras.layers import Conv2D,MaxPooling2D,Dense,Flatten,Dropout\n",
    "from tensorflow.keras import regularizers\n",
    "from tensorflow.keras.applications import VGG16\n",
    "from tensorflow.keras.metrics import Precision,Recall,BinaryAccuracy\n",
    "from tensorflow.keras.callbacks import EarlyStopping\n",
    "from sklearn.model_selection import train_test_split\n",
    "from tensorflow.keras.models import load_model\n",
    "from sklearn.metrics import confusion_matrix, classification_report\n",
    "\n"
   ]
  },
  {
   "cell_type": "markdown",
   "id": "b45d89ec",
   "metadata": {},
   "source": [
    "###    Web Scraping\n",
    "\n",
    "Beautiful soup use in order to create the function which on specifying url downloads the images from that particular site"
   ]
  },
  {
   "cell_type": "code",
   "execution_count": 2,
   "id": "a2e27c4a",
   "metadata": {},
   "outputs": [],
   "source": [
    "# Get the RGB pixel data of the specific image to exclude\n",
    "specific_image_path = 'image_17e76843.jpg'\n",
    "with Image.open(specific_image_path) as img:\n",
    "    excluded_image_data = np.array(img.convert(\"RGB\"))\n",
    "\n",
    "def download_images_from_directory(url, output_directory, limit):\n",
    "    if not os.path.exists(output_directory):\n",
    "        os.makedirs(output_directory)\n",
    "\n",
    "    headers = {\n",
    "        \"User-Agent\": \"Mozilla/5.0 (Windows NT 10.0; Win64; x64) AppleWebKit/537.36 (KHTML, like Gecko) Chrome/91.0.4472.124 Safari/537.36\"\n",
    "    }    \n",
    "\n",
    "    response = requests.get(url, headers=headers)\n",
    "    #url is requested within the header which helps to either retrieve that page or output an error\n",
    "    if response.status_code != 200:\n",
    "        print(f\"Failed to retrieve web page. Status code: {response.status_code}\")\n",
    "        return 0\n",
    "\n",
    "    soup = BeautifulSoup(response.text, 'html.parser')\n",
    "    #used to parse the responses into parse tree which helps beautiful soup easy to navigate\n",
    "    image_elements = soup.find_all('img')\n",
    "    #it is used to find all the image tags located within the soup object   \n",
    "\n",
    "    image_urls = []\n",
    "    #to store all the accessable image urls\n",
    "    for img in image_elements:\n",
    "        if 'src' in img.attrs:\n",
    "            src = img['src']\n",
    "            if src.endswith(('.jpg', '.jpeg')):\n",
    "                if not src.startswith('http'):\n",
    "                    src = urllib.parse.urljoin(url, src)\n",
    "                image_urls.append(src)\n",
    "\n",
    "    # Shuffle the image URLs to ensure randomness\n",
    "    random.shuffle(image_urls)\n",
    "\n",
    "    inserted_count = 0\n",
    "    failed_downloads = 0\n",
    "    #till the limit specified it searches whether the image is avaliable for us to insert or not\n",
    "    for idx, url in enumerate(image_urls[:limit]):\n",
    "        try:\n",
    "            file_extension = 'jpg' if url.endswith(('.jpg', '.jpeg')) else ''\n",
    "            if file_extension:\n",
    "                response = requests.get(url)\n",
    "                if response.status_code == 200: #indicates that request is succeded\n",
    "                    img = Image.open(BytesIO(response.content)).convert(\"RGB\")\n",
    "                    candidate_image_data = np.array(img)\n",
    "                    \n",
    "                    # Compare the candidate image data with the excluded image data\n",
    "                    if np.array_equal(candidate_image_data, excluded_image_data):\n",
    "                        continue  # Skip this image\n",
    "                    \n",
    "                    #this loop is made so that the image which we want not to be part of our dataset is not replaced at any moment\n",
    "                    while True:\n",
    "                        unique_id = str(uuid.uuid4())[:8] #generates an unique id for the corresponding image\n",
    "                        file_path = os.path.join(output_directory, f\"image_{unique_id}.{file_extension}\")\n",
    "                        if os.path.basename(file_path) != \"image_17e76843.jpg\":\n",
    "                            break\n",
    "                    \n",
    "                    img.save(file_path)\n",
    "                    inserted_count += 1\n",
    "        except Exception as e:\n",
    "            failed_downloads += 1\n",
    "\n",
    "    return inserted_count"
   ]
  },
  {
   "cell_type": "markdown",
   "id": "14cadea4",
   "metadata": {},
   "source": [
    "The next 12 cells include adding additional data using web scraping"
   ]
  },
  {
   "cell_type": "code",
   "execution_count": 3,
   "id": "52be4cc1",
   "metadata": {},
   "outputs": [
    {
     "name": "stdout",
     "output_type": "stream",
     "text": [
      "Number of images successfully inserted into directory 1: 64\n",
      "Number of images successfully inserted into directory 2: 33\n"
     ]
    }
   ],
   "source": [
    "url = 'https://www.freepik.com/free-photos-vectors/real-horses'\n",
    "output_directory1 = './train/REAL/'\n",
    "output_directory2 = './test/REAL/'\n",
    "count1= download_images_from_directory(url, output_directory1, limit=200)\n",
    "count2= download_images_from_directory(url, output_directory2, limit=50)\n",
    "print(f\"Number of images successfully inserted into directory 1: {count1}\")\n",
    "print(f\"Number of images successfully inserted into directory 2: {count2}\")"
   ]
  },
  {
   "cell_type": "code",
   "execution_count": 4,
   "id": "2f9094f7",
   "metadata": {},
   "outputs": [
    {
     "name": "stdout",
     "output_type": "stream",
     "text": [
      "Number of images successfully inserted into directory 1: 74\n",
      "Number of images successfully inserted into directory 2: 42\n"
     ]
    }
   ],
   "source": [
    "second_url = 'https://www.freepik.com/free-photos-vectors/dogs'\n",
    "second_count1= download_images_from_directory(second_url, output_directory1, limit=200)\n",
    "second_count2= download_images_from_directory(second_url, output_directory2, limit=50)\n",
    "print(f\"Number of images successfully inserted into directory 1: {second_count1}\")\n",
    "print(f\"Number of images successfully inserted into directory 2: {second_count2}\")"
   ]
  },
  {
   "cell_type": "code",
   "execution_count": 5,
   "id": "2b5fc2bf",
   "metadata": {},
   "outputs": [
    {
     "name": "stdout",
     "output_type": "stream",
     "text": [
      "Number of images successfully inserted into directory 1: 64\n",
      "Number of images successfully inserted into directory 2: 38\n"
     ]
    }
   ],
   "source": [
    "third_url = 'https://www.freepik.com/free-photos-vectors/real-birds'\n",
    "third_count1= download_images_from_directory(third_url, output_directory1, limit=200)\n",
    "third_count2= download_images_from_directory(third_url, output_directory2, limit=50)\n",
    "print(f\"Number of images successfully inserted into directory 1: {third_count1}\")\n",
    "print(f\"Number of images successfully inserted into directory 2: {third_count2}\")"
   ]
  },
  {
   "cell_type": "code",
   "execution_count": 6,
   "id": "5d20f2f0",
   "metadata": {},
   "outputs": [
    {
     "name": "stdout",
     "output_type": "stream",
     "text": [
      "Number of images successfully inserted into directory 1: 68\n",
      "Number of images successfully inserted into directory 2: 41\n"
     ]
    }
   ],
   "source": [
    "fourth_url = 'https://www.freepik.com/free-photos-vectors/real-frog'\n",
    "fourth_count1= download_images_from_directory(fourth_url, output_directory1, limit=200)\n",
    "fourth_count2= download_images_from_directory(fourth_url, output_directory2, limit=50)\n",
    "print(f\"Number of images successfully inserted into directory 1: {fourth_count1}\")\n",
    "print(f\"Number of images successfully inserted into directory 2: {fourth_count2}\")"
   ]
  },
  {
   "cell_type": "code",
   "execution_count": 7,
   "id": "85b321ec",
   "metadata": {},
   "outputs": [
    {
     "name": "stdout",
     "output_type": "stream",
     "text": [
      "Number of images successfully inserted into directory 1: 68\n",
      "Number of images successfully inserted into directory 2: 32\n"
     ]
    }
   ],
   "source": [
    "fifth_url = 'https://www.freepik.com/free-photos-vectors/real-cats'\n",
    "fifth_count1= download_images_from_directory(fifth_url, output_directory1, limit=200)\n",
    "fifth_count2= download_images_from_directory(fifth_url, output_directory2, limit=50)\n",
    "print(f\"Number of images successfully inserted into directory 1: {fifth_count1}\")\n",
    "print(f\"Number of images successfully inserted into directory 2: {fifth_count2}\")"
   ]
  },
  {
   "cell_type": "code",
   "execution_count": 8,
   "id": "7a34c8a5",
   "metadata": {},
   "outputs": [
    {
     "name": "stdout",
     "output_type": "stream",
     "text": [
      "Number of images successfully inserted into directory 1: 60\n",
      "Number of images successfully inserted into directory 2: 49\n"
     ]
    }
   ],
   "source": [
    "sixth_url = 'https://www.freepik.com/photos/human'\n",
    "sixth_count1= download_images_from_directory(sixth_url, output_directory1, limit=150)\n",
    "sixth_count2= download_images_from_directory(sixth_url, output_directory2, limit=50)\n",
    "print(f\"Number of images successfully inserted into directory 1: {sixth_count1}\")\n",
    "print(f\"Number of images successfully inserted into directory 2: {sixth_count2}\")"
   ]
  },
  {
   "cell_type": "code",
   "execution_count": 9,
   "id": "e8c26237",
   "metadata": {},
   "outputs": [
    {
     "name": "stdout",
     "output_type": "stream",
     "text": [
      "Number of images successfully inserted into ai directory 1: 88\n",
      "Number of images successfully inserted into ai directory 2: 50\n"
     ]
    }
   ],
   "source": [
    "ai1_url = 'https://www.dreamstime.com/photos-images/ai-horse.html'\n",
    "aioutput_directory1='./train/FAKE/'\n",
    "aioutput_directory2='./test/FAKE/'\n",
    "ai1_count1= download_images_from_directory(ai1_url, aioutput_directory1, limit=150)\n",
    "ai1_count2= download_images_from_directory(ai1_url, aioutput_directory2, limit=50)\n",
    "print(f\"Number of images successfully inserted into ai directory 1: {ai1_count1}\")\n",
    "print(f\"Number of images successfully inserted into ai directory 2: {ai1_count2}\")"
   ]
  },
  {
   "cell_type": "code",
   "execution_count": 10,
   "id": "dc863ab2",
   "metadata": {},
   "outputs": [
    {
     "name": "stdout",
     "output_type": "stream",
     "text": [
      "Number of images successfully inserted into ai directory 1: 56\n",
      "Number of images successfully inserted into ai directory 2: 31\n"
     ]
    }
   ],
   "source": [
    "ai2_url = 'https://www.freepik.com/free-photos-vectors/ai-dog'\n",
    "aioutput_directory1='./train/FAKE/'\n",
    "aioutput_directory2='./test/FAKE/'\n",
    "ai2_count1= download_images_from_directory(ai2_url, aioutput_directory1, limit=150)\n",
    "ai2_count2= download_images_from_directory(ai2_url, aioutput_directory2, limit=50)\n",
    "print(f\"Number of images successfully inserted into ai directory 1: {ai2_count1}\")\n",
    "print(f\"Number of images successfully inserted into ai directory 2: {ai2_count2}\")"
   ]
  },
  {
   "cell_type": "code",
   "execution_count": 11,
   "id": "ce005869",
   "metadata": {},
   "outputs": [
    {
     "name": "stdout",
     "output_type": "stream",
     "text": [
      "Number of images successfully inserted into ai directory 1: 54\n",
      "Number of images successfully inserted into ai directory 2: 36\n"
     ]
    }
   ],
   "source": [
    "ai3_url = 'https://www.freepik.com/free-photos-vectors/bird-ai'\n",
    "aioutput_directory1='./train/FAKE/'\n",
    "aioutput_directory2='./test/FAKE/'\n",
    "ai3_count1= download_images_from_directory(ai3_url, aioutput_directory1, limit=150)\n",
    "ai3_count2= download_images_from_directory(ai3_url, aioutput_directory2, limit=50)\n",
    "print(f\"Number of images successfully inserted into ai directory 1: {ai3_count1}\")\n",
    "print(f\"Number of images successfully inserted into ai directory 2: {ai3_count2}\")"
   ]
  },
  {
   "cell_type": "code",
   "execution_count": 12,
   "id": "ef6058aa",
   "metadata": {},
   "outputs": [
    {
     "name": "stdout",
     "output_type": "stream",
     "text": [
      "Number of images successfully inserted into ai directory 1: 55\n",
      "Number of images successfully inserted into ai directory 2: 39\n"
     ]
    }
   ],
   "source": [
    "ai4_url = 'https://www.freepik.com/free-photos-vectors/frogsgenerative-ai'\n",
    "aioutput_directory1='./train/FAKE/'\n",
    "aioutput_directory2='./test/FAKE/'\n",
    "ai4_count1= download_images_from_directory(ai4_url, aioutput_directory1, limit=150)\n",
    "ai4_count2= download_images_from_directory(ai4_url, aioutput_directory2, limit=50)\n",
    "print(f\"Number of images successfully inserted into ai directory 1: {ai4_count1}\")\n",
    "print(f\"Number of images successfully inserted into ai directory 2: {ai4_count2}\")"
   ]
  },
  {
   "cell_type": "code",
   "execution_count": 13,
   "id": "fc52b8d8",
   "metadata": {},
   "outputs": [
    {
     "name": "stdout",
     "output_type": "stream",
     "text": [
      "Number of images successfully inserted into ai directory 1: 55\n",
      "Number of images successfully inserted into ai directory 2: 36\n"
     ]
    }
   ],
   "source": [
    "ai5_url = 'https://www.freepik.com/free-photos-vectors/cat-ai'\n",
    "aioutput_directory1='./train/FAKE/'\n",
    "aioutput_directory2='./test/FAKE/'\n",
    "ai5_count1= download_images_from_directory(ai5_url, aioutput_directory1, limit=150)\n",
    "ai5_count2= download_images_from_directory(ai5_url, aioutput_directory2, limit=50)\n",
    "print(f\"Number of images successfully inserted into ai directory 1: {ai5_count1}\")\n",
    "print(f\"Number of images successfully inserted into ai directory 2: {ai5_count2}\")"
   ]
  },
  {
   "cell_type": "code",
   "execution_count": 14,
   "id": "7eab6584",
   "metadata": {},
   "outputs": [
    {
     "name": "stdout",
     "output_type": "stream",
     "text": [
      "Number of images successfully inserted into ai directory 1: 60\n",
      "Number of images successfully inserted into ai directory 2: 38\n"
     ]
    }
   ],
   "source": [
    "ai6_url = 'https://www.freepik.com/free-photos-vectors/anime'\n",
    "aioutput_directory1='./train/FAKE/'\n",
    "aioutput_directory2='./test/FAKE/'\n",
    "ai6_count1= download_images_from_directory(ai6_url, aioutput_directory1, limit=150)\n",
    "ai6_count2= download_images_from_directory(ai6_url, aioutput_directory2, limit=50)\n",
    "print(f\"Number of images successfully inserted into ai directory 1: {ai6_count1}\")\n",
    "print(f\"Number of images successfully inserted into ai directory 2: {ai6_count2}\")"
   ]
  },
  {
   "cell_type": "markdown",
   "id": "f5d81b42",
   "metadata": {},
   "source": [
    "### Train directory"
   ]
  },
  {
   "cell_type": "code",
   "execution_count": 15,
   "id": "14a5c0fe",
   "metadata": {},
   "outputs": [],
   "source": [
    "DATADIR = \"./train/\"\n",
    "CATEGORIES = [\"REAL\", \"FAKE\"]\n",
    "IMG_SIZE = 32"
   ]
  },
  {
   "cell_type": "markdown",
   "id": "c5cc8a00",
   "metadata": {},
   "source": [
    "#### Getting the training data\n",
    "\n",
    "###### Method 1:Function to store the training data using dynammic creation"
   ]
  },
  {
   "cell_type": "code",
   "execution_count": 16,
   "id": "3f95f890",
   "metadata": {},
   "outputs": [
    {
     "name": "stdout",
     "output_type": "stream",
     "text": [
      "100766\n"
     ]
    }
   ],
   "source": [
    "\n",
    "training_data=[]\n",
    "\n",
    "def create_training_data():\n",
    "    for category in CATEGORIES:\n",
    "        path=os.path.join(DATADIR,category)\n",
    "        class_num=CATEGORIES.index(category)\n",
    "        for img in os.listdir(path):\n",
    "            try:\n",
    "                img_array=cv2.imread(os.path.join(path,img))\n",
    "                new_array=cv2.resize(img_array,(IMG_SIZE,IMG_SIZE))\n",
    "                training_data.append([new_array,class_num])\n",
    "            except Exception as e:\n",
    "                pass\n",
    "\n",
    "create_training_data()\n",
    "\n",
    "print(len(training_data))"
   ]
  },
  {
   "cell_type": "code",
   "execution_count": 17,
   "id": "dc33e006",
   "metadata": {},
   "outputs": [],
   "source": [
    "random.shuffle(training_data)\n"
   ]
  },
  {
   "cell_type": "code",
   "execution_count": 19,
   "id": "b65956ca",
   "metadata": {},
   "outputs": [],
   "source": [
    "X=[]\n",
    "Y=[]"
   ]
  },
  {
   "cell_type": "markdown",
   "id": "b52866be",
   "metadata": {},
   "source": [
    "Seperating features and label effectiving using chunks"
   ]
  },
  {
   "cell_type": "code",
   "execution_count": 20,
   "id": "c2b9b412",
   "metadata": {},
   "outputs": [],
   "source": [
    "X_chunks = []\n",
    "Y_chunks = []\n",
    "\n",
    "# Define chunk size\n",
    "chunk_size = 100  # Adjust based on your system's memory capacity\n",
    "\n",
    "# Iterate over the training data and store features and labels in chunks\n",
    "for i, (features, label) in enumerate(training_data):\n",
    "    if i % chunk_size == 0 and i != 0:\n",
    "        # Convert the chunked data into numpy arrays\n",
    "        X_chunk = np.array(X_chunks)\n",
    "        Y_chunk = np.array(Y_chunks)\n",
    "        \n",
    "        # Append the chunked data to the main X and Y lists\n",
    "        X.append(X_chunk)\n",
    "        Y.append(Y_chunk)\n",
    "        \n",
    "        # Clear the chunk lists\n",
    "        X_chunks = []\n",
    "        Y_chunks = []\n",
    "\n",
    "    X_chunks.append(features)\n",
    "    Y_chunks.append(label)\n",
    "\n",
    "# Convert the remaining chunked data into numpy arrays and append to X and Y\n",
    "X_chunk = np.array(X_chunks)\n",
    "Y_chunk = np.array(Y_chunks)\n",
    "X.append(X_chunk)\n",
    "Y.append(Y_chunk)\n",
    "\n",
    "# Merge all chunks into single arrays\n",
    "X = np.concatenate(X, axis=0)\n",
    "Y = np.concatenate(Y, axis=0)"
   ]
  },
  {
   "cell_type": "code",
   "execution_count": 21,
   "id": "63790405",
   "metadata": {},
   "outputs": [],
   "source": [
    "X=np.array(X).reshape(-1,IMG_SIZE,IMG_SIZE,3) #this is done for double \n",
    "#check. Note that images are already in required format\n"
   ]
  },
  {
   "cell_type": "code",
   "execution_count": 22,
   "id": "e4b778e0",
   "metadata": {},
   "outputs": [
    {
     "name": "stdout",
     "output_type": "stream",
     "text": [
      "100766\n"
     ]
    },
    {
     "data": {
      "text/plain": [
       "(100766, 32, 32, 3)"
      ]
     },
     "execution_count": 22,
     "metadata": {},
     "output_type": "execute_result"
    }
   ],
   "source": [
    "print(len(X))\n",
    "X.shape"
   ]
  },
  {
   "cell_type": "markdown",
   "id": "d4cae2e3",
   "metadata": {},
   "source": [
    "Storing the dynammic creation within various pickle files for furthur usage"
   ]
  },
  {
   "cell_type": "code",
   "execution_count": 23,
   "id": "8b6ed362",
   "metadata": {},
   "outputs": [],
   "source": [
    "#binary is used so that data is read as it is\n",
    "#pickle is used to append the data in the serialized manner\n",
    "pickle_out=open(\"X.pickle\",\"wb\")\n",
    "#used to specify the file where the dataset has to be written and with what format\n",
    "pickle.dump(X,pickle_out)\n",
    "#it creates the data in X in binary mode and writes out to the pickle_out file\n",
    "pickle_out.close()\n",
    "\n",
    "pickle_out=open(\"Y.pickle\",\"wb\")\n",
    "#used to specify the file where the dataset has to be written and with what format\n",
    "pickle.dump(Y,pickle_out)\n",
    "#it creates the data in X in binary mode and writes out to the pickle_out file\n",
    "pickle_out.close()"
   ]
  },
  {
   "cell_type": "markdown",
   "id": "1f39bd52",
   "metadata": {},
   "source": [
    "###### Method2:- In this method you are loading data from already stored file"
   ]
  },
  {
   "cell_type": "code",
   "execution_count": 24,
   "id": "0a14b07e",
   "metadata": {},
   "outputs": [
    {
     "name": "stdout",
     "output_type": "stream",
     "text": [
      "(100766, 32, 32, 3)\n"
     ]
    }
   ],
   "source": [
    "pickle_inx=open(\"X.pickle\",\"rb\")\n",
    "#opens a file in read binary mode\n",
    "X_p=pickle.load(pickle_inx)\n",
    "#above loads the data in pickle_inx to X\n",
    "pickle_iny=open(\"Y.pickle\",\"rb\")\n",
    "Y_p=pickle.load(pickle_iny)\n",
    "\n",
    "print(X_p.shape)"
   ]
  },
  {
   "cell_type": "markdown",
   "id": "353e44d1",
   "metadata": {},
   "source": [
    "### Viewing and normalizing the data for model training"
   ]
  },
  {
   "cell_type": "code",
   "execution_count": 25,
   "id": "32ed2bf9",
   "metadata": {},
   "outputs": [
    {
     "data": {
      "text/plain": [
       "array([[[ 78, 104, 116],\n",
       "        [ 92, 120, 131],\n",
       "        [102, 134, 145],\n",
       "        ...,\n",
       "        [ 70, 105, 125],\n",
       "        [118, 158, 206],\n",
       "        [103, 143, 208]],\n",
       "\n",
       "       [[ 83, 107, 119],\n",
       "        [ 74, 100, 112],\n",
       "        [ 69,  98, 112],\n",
       "        ...,\n",
       "        [ 62,  98, 122],\n",
       "        [117, 157, 209],\n",
       "        [109, 152, 219]],\n",
       "\n",
       "       [[ 79,  98, 111],\n",
       "        [ 73,  95, 107],\n",
       "        [ 68,  94, 108],\n",
       "        ...,\n",
       "        [ 64, 103, 131],\n",
       "        [107, 151, 205],\n",
       "        [101, 144, 217]],\n",
       "\n",
       "       ...,\n",
       "\n",
       "       [[ 74, 101,  97],\n",
       "        [ 89, 118, 115],\n",
       "        [ 91, 122, 123],\n",
       "        ...,\n",
       "        [ 85, 133, 134],\n",
       "        [ 72, 120, 121],\n",
       "        [ 79, 127, 128]],\n",
       "\n",
       "       [[ 67,  96,  87],\n",
       "        [ 82, 113, 106],\n",
       "        [ 86, 118, 117],\n",
       "        ...,\n",
       "        [ 69, 118, 116],\n",
       "        [ 72, 121, 119],\n",
       "        [ 89, 138, 136]],\n",
       "\n",
       "       [[ 51,  83,  72],\n",
       "        [ 67,  98,  89],\n",
       "        [ 74, 107, 103],\n",
       "        ...,\n",
       "        [ 62, 111, 109],\n",
       "        [ 67, 116, 114],\n",
       "        [ 85, 134, 132]]], dtype=uint8)"
      ]
     },
     "execution_count": 25,
     "metadata": {},
     "output_type": "execute_result"
    }
   ],
   "source": [
    "X[1]"
   ]
  },
  {
   "cell_type": "code",
   "execution_count": 26,
   "id": "c3e68275",
   "metadata": {},
   "outputs": [],
   "source": [
    "\n",
    "X=X/255 #Making the image normalized in order to avoid the situation of exploding gradient or vanishing gradient\n"
   ]
  },
  {
   "cell_type": "markdown",
   "id": "280be0fd",
   "metadata": {},
   "source": [
    "## Here we begin model specification\n",
    "\n",
    "##### VGG16 \n",
    "\n",
    "Used VGG16 as it has been trained to accomodate wide variety of features within images and this makes it one of the best resources for transfer learning of image classification\n",
    "\n",
    "Imagenet is the large-scale dataset of images on which VGG16 was trained and we are using those weights as the starting weights for training our model.\n",
    "We have made the include_top=false so that we could specify the outcomes based on our requirement"
   ]
  },
  {
   "cell_type": "code",
   "execution_count": 27,
   "id": "4aee40ae",
   "metadata": {},
   "outputs": [],
   "source": [
    "base_model = VGG16(weights='imagenet', include_top=False, input_shape=(32, 32, 3))\n",
    "for layer in base_model.layers:\n",
    "    layer.trainable = False"
   ]
  },
  {
   "cell_type": "code",
   "execution_count": 28,
   "id": "557430c2",
   "metadata": {},
   "outputs": [],
   "source": [
    "model = Sequential()\n",
    "model.add(base_model)\n",
    "model.add(Flatten())\n",
    "model.add(Dense(256, activation='relu'))\n",
    "model.add(Dropout(0.5))\n",
    "model.add(Dense(1, activation='sigmoid'))"
   ]
  },
  {
   "cell_type": "code",
   "execution_count": 29,
   "id": "63141ad4",
   "metadata": {},
   "outputs": [],
   "source": [
    "logdir='logs'"
   ]
  },
  {
   "cell_type": "code",
   "execution_count": 30,
   "id": "3b1c30ab",
   "metadata": {},
   "outputs": [],
   "source": [
    "tensorboard_callback=tf.keras.callbacks.TensorBoard(log_dir=logdir)"
   ]
  },
  {
   "cell_type": "markdown",
   "id": "fd798194",
   "metadata": {},
   "source": [
    "###### Early stopping"
   ]
  },
  {
   "cell_type": "code",
   "execution_count": 31,
   "id": "7e100498",
   "metadata": {
    "scrolled": false
   },
   "outputs": [],
   "source": [
    "\n",
    "early_stopping_callback = EarlyStopping(\n",
    "    monitor='val_loss',  # or 'val_accuracy' if you prefer to monitor validation accuracy\n",
    "    patience=3,          # number of epochs with no improvement after which training will be stopped\n",
    "    restore_best_weights=True\n",
    "    # restores the model weights from the epoch with the best value of the monitored quantity\n",
    ")"
   ]
  },
  {
   "cell_type": "code",
   "execution_count": 32,
   "id": "8ad4609a",
   "metadata": {},
   "outputs": [],
   "source": [
    "model.compile(optimizer='adam',\n",
    "              loss='binary_crossentropy',\n",
    "              metrics=['accuracy'])"
   ]
  },
  {
   "cell_type": "markdown",
   "id": "36d74eab",
   "metadata": {},
   "source": [
    "##### Splitting the X and Y generated in training and validation "
   ]
  },
  {
   "cell_type": "code",
   "execution_count": 33,
   "id": "7fc3e8b7",
   "metadata": {},
   "outputs": [],
   "source": [
    "# Split data into training and validation sets\n",
    "x_train, x_val, y_train, y_val = train_test_split(X, Y, test_size=0.1, random_state=42)"
   ]
  },
  {
   "cell_type": "markdown",
   "id": "8ee25fb6",
   "metadata": {},
   "source": [
    "### Finally now we train our model"
   ]
  },
  {
   "cell_type": "code",
   "execution_count": 34,
   "id": "87dfa030",
   "metadata": {},
   "outputs": [
    {
     "name": "stdout",
     "output_type": "stream",
     "text": [
      "Epoch 1/30\n"
     ]
    },
    {
     "name": "stderr",
     "output_type": "stream",
     "text": [
      "2024-06-12 20:00:34.886591: W tensorflow/tsl/platform/profile_utils/cpu_utils.cc:128] Failed to get CPU frequency: 0 Hz\n"
     ]
    },
    {
     "name": "stdout",
     "output_type": "stream",
     "text": [
      "1814/1814 [==============================] - 564s 310ms/step - loss: 0.3919 - accuracy: 0.8220 - val_loss: 0.3427 - val_accuracy: 0.8496\n",
      "Epoch 2/30\n",
      "1814/1814 [==============================] - 601s 331ms/step - loss: 0.3382 - accuracy: 0.8527 - val_loss: 0.3098 - val_accuracy: 0.8681\n",
      "Epoch 3/30\n",
      "1814/1814 [==============================] - 541s 298ms/step - loss: 0.3181 - accuracy: 0.8628 - val_loss: 0.3002 - val_accuracy: 0.8761\n",
      "Epoch 4/30\n",
      "1814/1814 [==============================] - 671s 370ms/step - loss: 0.3054 - accuracy: 0.8683 - val_loss: 0.2912 - val_accuracy: 0.8771\n",
      "Epoch 5/30\n",
      "1814/1814 [==============================] - 551s 304ms/step - loss: 0.2960 - accuracy: 0.8739 - val_loss: 0.2857 - val_accuracy: 0.8793\n",
      "Epoch 6/30\n",
      "1814/1814 [==============================] - 627s 346ms/step - loss: 0.2875 - accuracy: 0.8793 - val_loss: 0.2761 - val_accuracy: 0.8859\n",
      "Epoch 7/30\n",
      "1814/1814 [==============================] - 553s 305ms/step - loss: 0.2817 - accuracy: 0.8806 - val_loss: 0.2804 - val_accuracy: 0.8832\n",
      "Epoch 8/30\n",
      "1814/1814 [==============================] - 554s 306ms/step - loss: 0.2762 - accuracy: 0.8834 - val_loss: 0.2778 - val_accuracy: 0.8818\n",
      "Epoch 9/30\n",
      "1814/1814 [==============================] - 582s 321ms/step - loss: 0.2712 - accuracy: 0.8865 - val_loss: 0.2730 - val_accuracy: 0.8900\n",
      "Epoch 10/30\n",
      "1814/1814 [==============================] - 601s 332ms/step - loss: 0.2653 - accuracy: 0.8895 - val_loss: 0.2748 - val_accuracy: 0.8865\n",
      "Epoch 11/30\n",
      "1814/1814 [==============================] - 595s 328ms/step - loss: 0.2610 - accuracy: 0.8912 - val_loss: 0.2690 - val_accuracy: 0.8884\n",
      "Epoch 12/30\n",
      "1814/1814 [==============================] - 583s 321ms/step - loss: 0.2568 - accuracy: 0.8926 - val_loss: 0.2671 - val_accuracy: 0.8887\n",
      "Epoch 13/30\n",
      "1814/1814 [==============================] - 546s 301ms/step - loss: 0.2541 - accuracy: 0.8954 - val_loss: 0.2657 - val_accuracy: 0.8913\n",
      "Epoch 14/30\n",
      "1814/1814 [==============================] - 523s 289ms/step - loss: 0.2502 - accuracy: 0.8968 - val_loss: 0.2625 - val_accuracy: 0.8946\n",
      "Epoch 15/30\n",
      "1814/1814 [==============================] - 554s 305ms/step - loss: 0.2463 - accuracy: 0.8985 - val_loss: 0.2666 - val_accuracy: 0.8915\n",
      "Epoch 16/30\n",
      "1814/1814 [==============================] - 601s 331ms/step - loss: 0.2436 - accuracy: 0.8999 - val_loss: 0.2586 - val_accuracy: 0.8954\n",
      "Epoch 17/30\n",
      "1814/1814 [==============================] - 554s 305ms/step - loss: 0.2407 - accuracy: 0.8999 - val_loss: 0.2701 - val_accuracy: 0.8909\n",
      "Epoch 18/30\n",
      "1814/1814 [==============================] - 508s 280ms/step - loss: 0.2375 - accuracy: 0.9018 - val_loss: 0.2589 - val_accuracy: 0.8931\n",
      "Epoch 19/30\n",
      "1814/1814 [==============================] - 508s 280ms/step - loss: 0.2317 - accuracy: 0.9044 - val_loss: 0.2625 - val_accuracy: 0.8926\n"
     ]
    }
   ],
   "source": [
    "hist = model.fit(\n",
    "    x_train, \n",
    "    y_train, \n",
    "    batch_size=50, \n",
    "    validation_data=(x_val, y_val),  # Use validation data instead of validation split\n",
    "    epochs=30,\n",
    "    callbacks=[tensorboard_callback, early_stopping_callback]  # Add early stopping here\n",
    ")"
   ]
  },
  {
   "cell_type": "code",
   "execution_count": 35,
   "id": "a9db6391",
   "metadata": {},
   "outputs": [
    {
     "data": {
      "text/plain": [
       "{'loss': [0.3918720483779907,\n",
       "  0.33815526962280273,\n",
       "  0.3181484639644623,\n",
       "  0.30543312430381775,\n",
       "  0.2959865927696228,\n",
       "  0.28745272755622864,\n",
       "  0.28172174096107483,\n",
       "  0.2762208878993988,\n",
       "  0.2711724042892456,\n",
       "  0.2653425335884094,\n",
       "  0.2609720826148987,\n",
       "  0.25683915615081787,\n",
       "  0.25407883524894714,\n",
       "  0.2502264678478241,\n",
       "  0.24627047777175903,\n",
       "  0.24361670017242432,\n",
       "  0.24069322645664215,\n",
       "  0.23751132190227509,\n",
       "  0.23166239261627197],\n",
       " 'accuracy': [0.8220401406288147,\n",
       "  0.8527054190635681,\n",
       "  0.8628499507904053,\n",
       "  0.8682530522346497,\n",
       "  0.8738876581192017,\n",
       "  0.8793348670005798,\n",
       "  0.8805698752403259,\n",
       "  0.883425772190094,\n",
       "  0.8865352869033813,\n",
       "  0.8894684314727783,\n",
       "  0.8911995887756348,\n",
       "  0.8925558924674988,\n",
       "  0.8953566551208496,\n",
       "  0.896845281124115,\n",
       "  0.8984551429748535,\n",
       "  0.8999106884002686,\n",
       "  0.8998555541038513,\n",
       "  0.9017521142959595,\n",
       "  0.9043985605239868],\n",
       " 'val_loss': [0.34274527430534363,\n",
       "  0.3097940683364868,\n",
       "  0.3001614809036255,\n",
       "  0.2911977767944336,\n",
       "  0.28572529554367065,\n",
       "  0.2761293351650238,\n",
       "  0.2803793251514435,\n",
       "  0.27784261107444763,\n",
       "  0.27295970916748047,\n",
       "  0.2748326361179352,\n",
       "  0.2689824104309082,\n",
       "  0.2671339809894562,\n",
       "  0.265677273273468,\n",
       "  0.2624607980251312,\n",
       "  0.2666231095790863,\n",
       "  0.2586241066455841,\n",
       "  0.2700808346271515,\n",
       "  0.2589324712753296,\n",
       "  0.26252785325050354],\n",
       " 'val_accuracy': [0.849558413028717,\n",
       "  0.8681154847145081,\n",
       "  0.8760544061660767,\n",
       "  0.8771460056304932,\n",
       "  0.8793291449546814,\n",
       "  0.8858787417411804,\n",
       "  0.8831993937492371,\n",
       "  0.8818100690841675,\n",
       "  0.8900466561317444,\n",
       "  0.8864741325378418,\n",
       "  0.8883596062660217,\n",
       "  0.8886573314666748,\n",
       "  0.8913366794586182,\n",
       "  0.8946114778518677,\n",
       "  0.8915351629257202,\n",
       "  0.8954053521156311,\n",
       "  0.8909397721290588,\n",
       "  0.8931229710578918,\n",
       "  0.8926267623901367]}"
      ]
     },
     "execution_count": 35,
     "metadata": {},
     "output_type": "execute_result"
    }
   ],
   "source": [
    "hist.history"
   ]
  },
  {
   "cell_type": "markdown",
   "id": "e58e2ede",
   "metadata": {},
   "source": [
    "##### Plotting loss and validation losses"
   ]
  },
  {
   "cell_type": "code",
   "execution_count": 36,
   "id": "498dc39b",
   "metadata": {},
   "outputs": [
    {
     "data": {
      "image/png": "[encoded data removed]",
      "text/plain": [
       "<Figure size 640x480 with 1 Axes>"
      ]
     },
     "metadata": {},
     "output_type": "display_data"
    }
   ],
   "source": [
    "fig=plt.figure()\n",
    "plt.plot(hist.history['loss'],color='teal',label='loss')\n",
    "plt.plot(hist.history['val_loss'],color='orange',label='val_loss')\n",
    "fig.suptitle('Loss',fontsize=20)\n",
    "plt.legend(loc=\"upper left\")\n",
    "plt.show()"
   ]
  },
  {
   "cell_type": "markdown",
   "id": "0d8f5b17",
   "metadata": {},
   "source": [
    "##### To check that best weigths are maintained"
   ]
  },
  {
   "cell_type": "code",
   "execution_count": 37,
   "id": "4092b1c6",
   "metadata": {},
   "outputs": [
    {
     "name": "stdout",
     "output_type": "stream",
     "text": [
      "315/315 [==============================] - 52s 164ms/step - loss: 0.2586 - accuracy: 0.8954\n"
     ]
    }
   ],
   "source": [
    "validation_loss = model.evaluate(x_val, y_val)[0]"
   ]
  },
  {
   "cell_type": "markdown",
   "id": "e9d0be28",
   "metadata": {},
   "source": [
    "## Analysing the trained model on test data"
   ]
  },
  {
   "cell_type": "code",
   "execution_count": 38,
   "id": "42d5de3c",
   "metadata": {},
   "outputs": [],
   "source": [
    "TESTDIR = \"./test/\""
   ]
  },
  {
   "cell_type": "code",
   "execution_count": 39,
   "id": "6eca1eb8",
   "metadata": {},
   "outputs": [],
   "source": [
    "pre=Precision()\n",
    "re=Recall()\n",
    "acc=BinaryAccuracy()"
   ]
  },
  {
   "cell_type": "code",
   "execution_count": 40,
   "id": "df775290",
   "metadata": {},
   "outputs": [],
   "source": [
    "CATEGORIES = [\"REAL\", \"FAKE\"]\n",
    "IMG_SIZE = 32"
   ]
  },
  {
   "cell_type": "code",
   "execution_count": 41,
   "id": "9efe0952",
   "metadata": {},
   "outputs": [
    {
     "name": "stdout",
     "output_type": "stream",
     "text": [
      "20465\n"
     ]
    }
   ],
   "source": [
    "test_data=[]\n",
    "\n",
    "def create_test_data():\n",
    "    for category in CATEGORIES:\n",
    "        path=os.path.join(TESTDIR,category)\n",
    "        class_num=CATEGORIES.index(category)\n",
    "        for img in os.listdir(path):\n",
    "            try:\n",
    "                img_array=cv2.imread(os.path.join(path,img))\n",
    "                new_array=cv2.resize(img_array,(IMG_SIZE,IMG_SIZE))\n",
    "                test_data.append([new_array,class_num])\n",
    "            except Exception as e:\n",
    "                pass\n",
    "\n",
    "create_test_data()\n",
    "\n",
    "print(len(test_data))"
   ]
  },
  {
   "cell_type": "code",
   "execution_count": 42,
   "id": "a354519c",
   "metadata": {},
   "outputs": [],
   "source": [
    "random.shuffle(test_data)"
   ]
  },
  {
   "cell_type": "code",
   "execution_count": 43,
   "id": "c7581d10",
   "metadata": {},
   "outputs": [],
   "source": [
    "X_test=[]\n",
    "Y_test=[]"
   ]
  },
  {
   "cell_type": "code",
   "execution_count": 44,
   "id": "a9e07c47",
   "metadata": {},
   "outputs": [],
   "source": [
    "X_test_chunks = []\n",
    "Y_test_chunks = []\n",
    "\n",
    "# Define chunk size\n",
    "chunk_size = 100  # Adjust based on your system's memory capacity\n",
    "\n",
    "# Iterate over the test data and store features and labels in chunks\n",
    "for i, (features, label) in enumerate(test_data):\n",
    "    if i % chunk_size == 0 and i != 0:\n",
    "        # Convert the chunked data into numpy arrays\n",
    "        X_test_chunk = np.array(X_test_chunks)\n",
    "        Y_test_chunk = np.array(Y_test_chunks)\n",
    "        \n",
    "        # Append the chunked data to the main X_test and Y_test lists\n",
    "        X_test.append(X_test_chunk)\n",
    "        Y_test.append(Y_test_chunk)\n",
    "        \n",
    "        # Clear the chunk lists\n",
    "        X_test_chunks = []\n",
    "        Y_test_chunks = []\n",
    "\n",
    "    X_test_chunks.append(features)\n",
    "    Y_test_chunks.append(label)\n",
    "\n",
    "# Convert the remaining chunked data into numpy arrays and append to X_test and Y_test\n",
    "X_test_chunk = np.array(X_test_chunks)\n",
    "Y_test_chunk = np.array(Y_test_chunks)\n",
    "X_test.append(X_test_chunk)\n",
    "Y_test.append(Y_test_chunk)\n",
    "\n",
    "# Merge all chunks into single arrays\n",
    "X_test = np.concatenate(X_test, axis=0)\n",
    "Y_test = np.concatenate(Y_test, axis=0)"
   ]
  },
  {
   "cell_type": "code",
   "execution_count": 45,
   "id": "e19f53ff",
   "metadata": {},
   "outputs": [],
   "source": [
    "X_test=np.array(X_test).reshape(-1,IMG_SIZE,IMG_SIZE,3) #for ensuring safety"
   ]
  },
  {
   "cell_type": "code",
   "execution_count": 46,
   "id": "84de372c",
   "metadata": {},
   "outputs": [],
   "source": [
    "X_test=X_test/255 #normalizing for checking"
   ]
  },
  {
   "cell_type": "markdown",
   "id": "87a9140d",
   "metadata": {},
   "source": [
    "### The Results"
   ]
  },
  {
   "cell_type": "code",
   "execution_count": 47,
   "id": "a2adefd0",
   "metadata": {},
   "outputs": [
    {
     "name": "stdout",
     "output_type": "stream",
     "text": [
      "640/640 [==============================] - 105s 165ms/step\n",
      "Precision: 0.8974\n",
      "Recall: 0.8733\n",
      "Accuracy: 0.8868\n"
     ]
    }
   ],
   "source": [
    "precision = Precision()\n",
    "recall = Recall()\n",
    "accuracy = BinaryAccuracy()\n",
    "\n",
    "# Make predictions on the test data\n",
    "y_pred = model.predict(X_test)\n",
    "y_pred_classes = (y_pred > 0.5).astype(int).flatten()\n",
    "\n",
    "# Update the metrics\n",
    "precision.update_state(Y_test, y_pred_classes)\n",
    "recall.update_state(Y_test, y_pred_classes)\n",
    "accuracy.update_state(Y_test, y_pred_classes)\n",
    "\n",
    "# Calculate the final results\n",
    "precision_result = precision.result().numpy()\n",
    "recall_result = recall.result().numpy()\n",
    "accuracy_result = accuracy.result().numpy()\n",
    "\n",
    "print(f'Precision: {precision_result:.4f}')\n",
    "print(f'Recall: {recall_result:.4f}')\n",
    "print(f'Accuracy: {accuracy_result:.4f}')\n"
   ]
  },
  {
   "cell_type": "code",
   "execution_count": 48,
   "id": "3c0cec93",
   "metadata": {},
   "outputs": [
    {
     "name": "stdout",
     "output_type": "stream",
     "text": [
      "20465\n"
     ]
    }
   ],
   "source": [
    "print(len(X_test))\n",
    "model.save('model.h5')"
   ]
  },
  {
   "cell_type": "code",
   "execution_count": 49,
   "id": "68badbb4",
   "metadata": {},
   "outputs": [
    {
     "name": "stdout",
     "output_type": "stream",
     "text": [
      "640/640 [==============================] - 107s 168ms/step\n",
      "Confusion Matrix:\n",
      "[[9214 1021]\n",
      " [1296 8934]]\n",
      "\n",
      "Classification Report:\n",
      "              precision    recall  f1-score   support\n",
      "\n",
      "        REAL       0.88      0.90      0.89     10235\n",
      "        FAKE       0.90      0.87      0.89     10230\n",
      "\n",
      "    accuracy                           0.89     20465\n",
      "   macro avg       0.89      0.89      0.89     20465\n",
      "weighted avg       0.89      0.89      0.89     20465\n",
      "\n"
     ]
    }
   ],
   "source": [
    "# Load the saved model (if not already loaded)\n",
    "model = load_model('model.h5')\n",
    "\n",
    "# Make predictions on the test data\n",
    "y_pred = model.predict(X_test)\n",
    "y_pred_classes = (y_pred > 0.5).astype(int).flatten()\n",
    "\n",
    "# Calculate the confusion matrix\n",
    "cm = confusion_matrix(Y_test, y_pred_classes)\n",
    "\n",
    "# Generate a classification report\n",
    "report = classification_report(Y_test, y_pred_classes, target_names=CATEGORIES)\n",
    "\n",
    "# Print the confusion matrix and classification report\n",
    "print(\"Confusion Matrix:\")\n",
    "print(cm)\n",
    "print(\"\\nClassification Report:\")\n",
    "print(report)\n"
   ]
  },
  {
   "cell_type": "markdown",
   "id": "4826c73d",
   "metadata": {},
   "source": [
    "### Finally proving that the dataset we used was quite balanced"
   ]
  },
  {
   "cell_type": "code",
   "execution_count": 51,
   "id": "d2d307ba",
   "metadata": {},
   "outputs": [
    {
     "name": "stdout",
     "output_type": "stream",
     "text": [
      "Training data shape: (100766, 32, 32, 3)\n",
      "Training labels distribution: [50398 50368]\n",
      "Test data shape: (20465, 32, 32, 3)\n",
      "Test labels distribution: [10235 10230]\n"
     ]
    }
   ],
   "source": [
    "\n",
    "# Ensure that the shapes and distributions are correct\n",
    "print(\"Training data shape:\", X.shape)\n",
    "print(\"Training labels distribution:\", np.bincount(Y))\n",
    "print(\"Test data shape:\", X_test.shape)\n",
    "print(\"Test labels distribution:\", np.bincount(Y_test))\n"
   ]
  },
  {
   "cell_type": "code",
   "execution_count": 52,
   "id": "af792847",
   "metadata": {},
   "outputs": [
    {
     "name": "stdout",
     "output_type": "stream",
     "text": [
      "[[9214 1021]\n",
      " [1296 8934]]\n"
     ]
    }
   ],
   "source": [
    "print(cm)"
   ]
  }
 ],
 "metadata": {
  "kernelspec": {
   "display_name": "Python 3 (ipykernel)",
   "language": "python",
   "name": "python3"
  },
  "language_info": {
   "codemirror_mode": {
    "name": "ipython",
    "version": 3
   },
   "file_extension": ".py",
   "mimetype": "text/x-python",
   "name": "python",
   "nbconvert_exporter": "python",
   "pygments_lexer": "ipython3",
   "version": "3.10.13"
  }
 },
 "nbformat": 4,
 "nbformat_minor": 5
}
